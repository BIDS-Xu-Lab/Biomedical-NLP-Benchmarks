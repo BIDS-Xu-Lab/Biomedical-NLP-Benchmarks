{
 "cells": [
  {
   "cell_type": "code",
   "execution_count": 2,
   "metadata": {},
   "outputs": [
    {
     "name": "stderr",
     "output_type": "stream",
     "text": [
      "100%|██████████| 3/3 [00:00<00:00, 52.93it/s]\n"
     ]
    }
   ],
   "source": [
    "import json\n",
    "import numpy as np\n",
    "import pandas as pd\n",
    "from tqdm import tqdm\n",
    "\n",
    "for split in tqdm([\"train\", \"dev\", \"test\"]):\n",
    "    new = []\n",
    "    with open(split + \".tsv\", \"r\") as file:\n",
    "        for line in file.readlines()[1:]:\n",
    "            arr = line.strip().split(\"\\t\")\n",
    "            index = arr[-1]\n",
    "            question = arr[0]\n",
    "            context = arr[1]\n",
    "            sentence   = \" \".join(context.split(\",\")).replace(\"[\",\"\").replace(\"]\",\"\").replace(\"\\\"\",\"\").replace(\"\\'\",\"\")\n",
    "            decision = arr[-3]\n",
    "        \n",
    "            new.append({\"index\":index, \"sentence\": question + \" \" + sentence, \"gold\": decision})\n",
    "        \n",
    "            \n",
    "    with open(\"pubmedqa_\"+ split + \".json\", \"w\") as fw:\n",
    "        json.dump(new, fw, indent = 4)"
   ]
  },
  {
   "cell_type": "code",
   "execution_count": 1,
   "metadata": {},
   "outputs": [
    {
     "name": "stderr",
     "output_type": "stream",
     "text": [
      "100%|██████████| 3/3 [00:00<00:00, 272.09it/s]"
     ]
    },
    {
     "name": "stdout",
     "output_type": "stream",
     "text": [
      "{'train': 450, 'test': 500, 'dev': 50}\n"
     ]
    },
    {
     "name": "stderr",
     "output_type": "stream",
     "text": [
      "\n"
     ]
    }
   ],
   "source": [
    "import json\n",
    "from tqdm import tqdm\n",
    "\n",
    "instance = {}\n",
    "for split in tqdm([\"train\", \"test\", \"dev\"]):\n",
    "    with open(\"pubmedqa_\"+ split + \".json\", \"r\") as fr:\n",
    "        data = json.load(fr)\n",
    "        \n",
    "    ins = len(data)\n",
    "    \n",
    "    instance[split] = ins\n",
    "    \n",
    "print(instance)"
   ]
  },
  {
   "cell_type": "code",
   "execution_count": null,
   "metadata": {},
   "outputs": [],
   "source": []
  }
 ],
 "metadata": {
  "kernelspec": {
   "display_name": "wzz",
   "language": "python",
   "name": "python3"
  },
  "language_info": {
   "codemirror_mode": {
    "name": "ipython",
    "version": 3
   },
   "file_extension": ".py",
   "mimetype": "text/x-python",
   "name": "python",
   "nbconvert_exporter": "python",
   "pygments_lexer": "ipython3",
   "version": "3.11.0"
  }
 },
 "nbformat": 4,
 "nbformat_minor": 2
}
