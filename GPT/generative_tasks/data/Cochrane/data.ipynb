{
 "cells": [
  {
   "cell_type": "code",
   "execution_count": 7,
   "metadata": {},
   "outputs": [],
   "source": [
    "import json\n",
    "import numpy as np\n",
    "from tqdm import tqdm\n",
    "\n",
    "for split in tqdm([\"train\", \"test\", \"validation\"]):\n",
    "    with open(\"cochrane_\" + split + \".jsonl\", \"r\") as f:\n",
    "        new = []\n",
    "        data = [json.loads(line) for line in f]\n",
    "        for item in data:\n",
    "            new.append({\"index\": item[\"gem_id\"], \"sentence\": item[\"source\"], \"gold\": item[\"target\"]})\n",
    "            \n",
    "    with open(\"cochrane_\"+ split + \".json\", \"w\") as fw:\n",
    "        json.dump(new, fw, indent = 4)"
   ]
  },
  {
   "cell_type": "code",
   "execution_count": 5,
   "metadata": {},
   "outputs": [
    {
     "name": "stderr",
     "output_type": "stream",
     "text": [
      "100%|██████████| 3/3 [00:00<00:00, 31.91it/s]"
     ]
    },
    {
     "name": "stdout",
     "output_type": "stream",
     "text": [
      "{'train': 3568, 'test': 480, 'validation': 411}\n"
     ]
    },
    {
     "name": "stderr",
     "output_type": "stream",
     "text": [
      "\n"
     ]
    }
   ],
   "source": [
    "import json\n",
    "from tqdm import tqdm\n",
    "\n",
    "instance = {}\n",
    "for split in tqdm([\"train\", \"test\", \"validation\"]):\n",
    "    with open(\"cochrane_\"+ split + \".json\", \"r\") as fr:\n",
    "        data = json.load(fr)\n",
    "        \n",
    "    ins = len(data)\n",
    "    \n",
    "    instance[split] = ins\n",
    "    \n",
    "print(instance)"
   ]
  }
 ],
 "metadata": {
  "kernelspec": {
   "display_name": "wzz",
   "language": "python",
   "name": "python3"
  },
  "language_info": {
   "codemirror_mode": {
    "name": "ipython",
    "version": 3
   },
   "file_extension": ".py",
   "mimetype": "text/x-python",
   "name": "python",
   "nbconvert_exporter": "python",
   "pygments_lexer": "ipython3",
   "version": "3.11.0"
  }
 },
 "nbformat": 4,
 "nbformat_minor": 2
}
