{
 "cells": [
  {
   "cell_type": "code",
   "execution_count": 5,
   "metadata": {},
   "outputs": [
    {
     "name": "stderr",
     "output_type": "stream",
     "text": [
      "100%|██████████| 2/2 [00:07<00:00,  3.58s/it]\n"
     ]
    }
   ],
   "source": [
    "import json\n",
    "import numpy as np\n",
    "from tqdm import tqdm\n",
    "\n",
    "for split in tqdm([\"train\", \"validation\"]):\n",
    "    with open(\"ms2_\" + split + \".jsonl\", \"r\") as f:\n",
    "        new = []\n",
    "        data = [json.loads(line) for line in f]\n",
    "        \n",
    "        for item in data:\n",
    "            input = \" \".join(item[\"abstract\"])\n",
    "            new.append({\"index\": item[\"review_id\"], \"sentence\": input, \"gold\": item[\"target\"]})\n",
    "            \n",
    "    with open(\"ms2_\"+ split + \".json\", \"w\") as fw:\n",
    "        json.dump(new, fw, indent = 4)"
   ]
  },
  {
   "cell_type": "code",
   "execution_count": 1,
   "metadata": {},
   "outputs": [
    {
     "name": "stderr",
     "output_type": "stream",
     "text": [
      "100%|██████████| 2/2 [00:02<00:00,  1.50s/it]"
     ]
    },
    {
     "name": "stdout",
     "output_type": "stream",
     "text": [
      "{'train': 14188, 'test': 2021}\n"
     ]
    },
    {
     "name": "stderr",
     "output_type": "stream",
     "text": [
      "\n"
     ]
    }
   ],
   "source": [
    "import json\n",
    "from tqdm import tqdm\n",
    "\n",
    "instance = {}\n",
    "for split in tqdm([\"train\", \"test\"]):\n",
    "    with open(\"ms2_\"+ split + \".json\", \"r\") as fr:\n",
    "        data = json.load(fr)\n",
    "        \n",
    "    ins = len(data)\n",
    "    \n",
    "    instance[split] = ins\n",
    "    \n",
    "print(instance)"
   ]
  }
 ],
 "metadata": {
  "kernelspec": {
   "display_name": "wzz",
   "language": "python",
   "name": "python3"
  },
  "language_info": {
   "codemirror_mode": {
    "name": "ipython",
    "version": 3
   },
   "file_extension": ".py",
   "mimetype": "text/x-python",
   "name": "python",
   "nbconvert_exporter": "python",
   "pygments_lexer": "ipython3",
   "version": "3.11.0"
  }
 },
 "nbformat": 4,
 "nbformat_minor": 2
}
