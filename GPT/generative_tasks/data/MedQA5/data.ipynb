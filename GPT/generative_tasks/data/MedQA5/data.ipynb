{
 "cells": [
  {
   "cell_type": "code",
   "execution_count": 1,
   "metadata": {},
   "outputs": [
    {
     "name": "stderr",
     "output_type": "stream",
     "text": [
      "100%|██████████| 2/2 [00:00<00:00,  5.93it/s]\n"
     ]
    }
   ],
   "source": [
    "import json\n",
    "import numpy as np\n",
    "from tqdm import tqdm\n",
    "\n",
    "for split in tqdm([\"train\", \"test\"]):\n",
    "    index = 0\n",
    "    with open(split + \".jsonl\", \"r\") as f:\n",
    "        new = []\n",
    "        data = [json.loads(line) for line in f]\n",
    "        \n",
    "        for item in data:\n",
    "            opt = []\n",
    "            for key in item[\"options\"].keys():\n",
    "                opt.append(key + \":\" + item[\"options\"][key] + \"\\n\") \n",
    "                \n",
    "            options = \" \".join(opt)\n",
    "            new.append({\"index\": index, \"sentence\": item[\"question\"] + options + \" \", \"gold\": item[\"answer_idx\"] + \":\" + item[\"answer\"]})\n",
    "            index += 1\n",
    "            \n",
    "    with open(\"MedQA_5Opt_\" + split + \".json\", \"w\") as fw:\n",
    "        json.dump(new, fw, indent = 4)"
   ]
  },
  {
   "cell_type": "code",
   "execution_count": 4,
   "metadata": {},
   "outputs": [
    {
     "name": "stderr",
     "output_type": "stream",
     "text": [
      "100%|██████████| 2/2 [00:00<00:00,  8.43it/s]"
     ]
    },
    {
     "name": "stdout",
     "output_type": "stream",
     "text": [
      "{'train': 10178, 'test': 1273}\n"
     ]
    },
    {
     "name": "stderr",
     "output_type": "stream",
     "text": [
      "\n"
     ]
    }
   ],
   "source": [
    "import json\n",
    "from tqdm import tqdm\n",
    "\n",
    "instance = {}\n",
    "for split in tqdm([\"train\", \"test\"]):\n",
    "    with open(split + \".json\", \"r\") as fr:\n",
    "        data = json.load(fr)\n",
    "        \n",
    "    ins = len(data)\n",
    "    \n",
    "    instance[split] = ins\n",
    "    \n",
    "print(instance)"
   ]
  },
  {
   "cell_type": "code",
   "execution_count": 7,
   "metadata": {},
   "outputs": [
    {
     "name": "stdout",
     "output_type": "stream",
     "text": [
      "8221\n",
      "5425\n"
     ]
    },
    {
     "name": "stderr",
     "output_type": "stream",
     "text": [
      "100%|██████████| 1/1 [00:01<00:00,  1.02s/it]"
     ]
    },
    {
     "name": "stdout",
     "output_type": "stream",
     "text": [
      "8221\n",
      "5425\n"
     ]
    },
    {
     "name": "stderr",
     "output_type": "stream",
     "text": [
      "\n"
     ]
    }
   ],
   "source": [
    "import json\n",
    "from tqdm import tqdm\n",
    "\n",
    "with open(\"medqa_gpt-4-32k.json\",\"r\") as file4:\n",
    "    ind4 = json.load(file4)\n",
    "with open(\"medqa_gpt-35-turbo-16k.json\", \"r\") as file35:\n",
    "    ind35 = json.load(file35)\n",
    "    \n",
    "print(len(ind4))\n",
    "print(len(ind35))\n",
    "  \n",
    "instance4, instance35 = [], []\n",
    "for split in tqdm([\"train\"]):\n",
    "    with open(\"medqa_\"+ split + \".json\", \"r\") as fr:\n",
    "        data = json.load(fr)\n",
    "        \n",
    "    for term in data:\n",
    "        if term[\"index\"] in ind4:\n",
    "            instance4.append(term)\n",
    "        else:\n",
    "            continue\n",
    "            \n",
    "    for term in data:\n",
    "        if term[\"index\"] in ind35:\n",
    "            instance35.append(term)\n",
    "        else:\n",
    "            continue\n",
    "    \n",
    "print(len(instance4))\n",
    "print(len(instance35))\n",
    "\n",
    "with open(\"medqa_train_gpt-4.json\",\"w\") as fw4:\n",
    "    json.dump(instance4, fw4, indent=4)\n",
    "with open(\"medqa_train_gpt-35.json\", \"w\") as fw35:\n",
    "    json.dump(instance35, fw35, indent=4)"
   ]
  }
 ],
 "metadata": {
  "kernelspec": {
   "display_name": "wzz",
   "language": "python",
   "name": "python3"
  },
  "language_info": {
   "codemirror_mode": {
    "name": "ipython",
    "version": 3
   },
   "file_extension": ".py",
   "mimetype": "text/x-python",
   "name": "python",
   "nbconvert_exporter": "python",
   "pygments_lexer": "ipython3",
   "version": "3.11.0"
  }
 },
 "nbformat": 4,
 "nbformat_minor": 2
}
