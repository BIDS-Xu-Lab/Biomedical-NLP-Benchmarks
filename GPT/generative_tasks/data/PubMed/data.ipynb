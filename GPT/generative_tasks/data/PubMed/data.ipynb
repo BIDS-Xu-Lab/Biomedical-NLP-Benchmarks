{
 "cells": [
  {
   "cell_type": "code",
   "execution_count": 4,
   "metadata": {},
   "outputs": [
    {
     "name": "stderr",
     "output_type": "stream",
     "text": [
      "  0%|          | 0/3 [00:00<?, ?it/s]"
     ]
    },
    {
     "name": "stderr",
     "output_type": "stream",
     "text": [
      "100%|██████████| 3/3 [00:25<00:00,  8.34s/it]\n"
     ]
    }
   ],
   "source": [
    "import json\n",
    "import numpy as np\n",
    "from tqdm import tqdm\n",
    "\n",
    "for split in tqdm([\"train\", \"validation\", \"test\"]):\n",
    "    new = []\n",
    "    with open(\"../../cache/pubmed_\" + split + \".jsonl\", \"r\") as f:\n",
    "        data = [json.loads(line) for line in f]\n",
    "        index = 0\n",
    "        for item in data:\n",
    "            if item[\"article\"] == \"\":\n",
    "                new.append({\"index\": index, \"sentence\": \"None\", \"gold\": item[\"abstract\"]})\n",
    "                index += 1\n",
    "            else:\n",
    "                new.append({\"index\": index, \"sentence\": item[\"article\"], \"gold\": item[\"abstract\"]})\n",
    "                index += 1\n",
    "            \n",
    "    with open(\"pubmed_\"+ split + \".json\", \"w\") as fw:\n",
    "        json.dump(new, fw, indent = 4)"
   ]
  },
  {
   "cell_type": "code",
   "execution_count": 1,
   "metadata": {},
   "outputs": [
    {
     "name": "stderr",
     "output_type": "stream",
     "text": [
      "100%|██████████| 3/3 [00:25<00:00,  8.44s/it]"
     ]
    },
    {
     "name": "stdout",
     "output_type": "stream",
     "text": [
      "{'train': 119924, 'test': 6658, 'validation': 6633}\n"
     ]
    },
    {
     "name": "stderr",
     "output_type": "stream",
     "text": [
      "\n"
     ]
    }
   ],
   "source": [
    "import json\n",
    "from tqdm import tqdm\n",
    "\n",
    "instance = {}\n",
    "for split in tqdm([\"train\", \"test\", \"validation\"]):\n",
    "    with open(\"pubmed_\"+ split + \".json\", \"r\") as fr:\n",
    "        data = json.load(fr)\n",
    "        \n",
    "    ins = len(data)\n",
    "    \n",
    "    instance[split] = ins\n",
    "    \n",
    "print(instance)"
   ]
  },
  {
   "cell_type": "code",
   "execution_count": 6,
   "metadata": {},
   "outputs": [],
   "source": [
    "import json\n",
    "import numpy as np\n",
    "from tqdm import tqdm\n",
    "with open(\"pubmed_train.json\", \"r\") as f:\n",
    "    data = json.load(f)"
   ]
  },
  {
   "cell_type": "code",
   "execution_count": 7,
   "metadata": {},
   "outputs": [
    {
     "data": {
      "text/plain": [
       "'None'"
      ]
     },
     "execution_count": 7,
     "metadata": {},
     "output_type": "execute_result"
    }
   ],
   "source": [
    "data[11][\"sentence\"]"
   ]
  }
 ],
 "metadata": {
  "kernelspec": {
   "display_name": "wzz",
   "language": "python",
   "name": "python3"
  },
  "language_info": {
   "codemirror_mode": {
    "name": "ipython",
    "version": 3
   },
   "file_extension": ".py",
   "mimetype": "text/x-python",
   "name": "python",
   "nbconvert_exporter": "python",
   "pygments_lexer": "ipython3",
   "version": "3.11.0"
  }
 },
 "nbformat": 4,
 "nbformat_minor": 2
}
